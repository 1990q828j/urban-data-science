{
 "cells": [
  {
   "cell_type": "markdown",
   "metadata": {},
   "source": [
    "# Cluster Analysis\n",
    "\n",
    "Data reduction in statistics and machine learning: factor analysis, principle components analysis, cluster analysis\n",
    " - in statistics, several observed variables might represent a single latent variable (reduce number of dimensions)\n",
    " - in spatial analysis, several lat-long points may represent a single \"place\" (reduce number of examples)\n",
    "\n",
    "Cluster analysis algorithms\n",
    " - *k-means* partitions the data space into Voronoi tessellations. Translation: you give it a desired number of clusters and it will partition them into equal-sized clusters (minimizes variance and fails at density-based clustering).\n",
    " - *DBSCAN* discovers clusters as dense areas in space, surrounded by sparser areas. Points in the sparse areas are usually considered noise (needs there to be drop-offs in density to detect cluster borders).\n",
    " - *OPTICS* is similar to DBSCAN, but lets you find clusters of varying density.\n",
    " - many more...\n",
    "\n",
    "DBSCAN is appropriate for geospatial data, and we'll focus on it today using scikit-learn.\n",
    "\n",
    "- http://scikit-learn.org/stable/modules/clustering.html\n",
    "- http://scikit-learn.org/stable/modules/clustering.html#dbscan"
   ]
  },
  {
   "cell_type": "code",
   "execution_count": 1,
   "metadata": {
    "collapsed": false
   },
   "outputs": [],
   "source": [
    "# magic command to display matplotlib plots inline within the ipython notebook\n",
    "%matplotlib inline\n",
    "\n",
    "# import necessary modules\n",
    "import pandas as pd, numpy as np, matplotlib.pyplot as plt\n",
    "from sklearn.cluster import DBSCAN\n",
    "from sklearn import metrics\n",
    "from geopy.distance import great_circle\n",
    "from shapely.geometry import MultiPoint"
   ]
  },
  {
   "cell_type": "markdown",
   "metadata": {},
   "source": [
    "## Part 1: spatial clustering into groups"
   ]
  },
  {
   "cell_type": "code",
   "execution_count": 2,
   "metadata": {
    "collapsed": false
   },
   "outputs": [
    {
     "data": {
      "text/html": [
       "<div>\n",
       "<table border=\"1\" class=\"dataframe\">\n",
       "  <thead>\n",
       "    <tr style=\"text-align: right;\">\n",
       "      <th></th>\n",
       "      <th>lat</th>\n",
       "      <th>lon</th>\n",
       "      <th>date</th>\n",
       "      <th>city</th>\n",
       "      <th>country</th>\n",
       "    </tr>\n",
       "  </thead>\n",
       "  <tbody>\n",
       "    <tr>\n",
       "      <th>0</th>\n",
       "      <td>51.481292</td>\n",
       "      <td>-0.451011</td>\n",
       "      <td>05/14/2014 09:07</td>\n",
       "      <td>West Drayton</td>\n",
       "      <td>United Kingdom</td>\n",
       "    </tr>\n",
       "    <tr>\n",
       "      <th>1</th>\n",
       "      <td>51.474005</td>\n",
       "      <td>-0.450999</td>\n",
       "      <td>05/14/2014 09:22</td>\n",
       "      <td>Hounslow</td>\n",
       "      <td>United Kingdom</td>\n",
       "    </tr>\n",
       "    <tr>\n",
       "      <th>2</th>\n",
       "      <td>51.478199</td>\n",
       "      <td>-0.446081</td>\n",
       "      <td>05/14/2014 10:51</td>\n",
       "      <td>Hounslow</td>\n",
       "      <td>United Kingdom</td>\n",
       "    </tr>\n",
       "    <tr>\n",
       "      <th>3</th>\n",
       "      <td>51.478199</td>\n",
       "      <td>-0.446081</td>\n",
       "      <td>05/14/2014 11:24</td>\n",
       "      <td>Hounslow</td>\n",
       "      <td>United Kingdom</td>\n",
       "    </tr>\n",
       "    <tr>\n",
       "      <th>4</th>\n",
       "      <td>51.474146</td>\n",
       "      <td>-0.451562</td>\n",
       "      <td>05/14/2014 11:38</td>\n",
       "      <td>Hounslow</td>\n",
       "      <td>United Kingdom</td>\n",
       "    </tr>\n",
       "  </tbody>\n",
       "</table>\n",
       "</div>"
      ],
      "text/plain": [
       "         lat       lon              date          city         country\n",
       "0  51.481292 -0.451011  05/14/2014 09:07  West Drayton  United Kingdom\n",
       "1  51.474005 -0.450999  05/14/2014 09:22      Hounslow  United Kingdom\n",
       "2  51.478199 -0.446081  05/14/2014 10:51      Hounslow  United Kingdom\n",
       "3  51.478199 -0.446081  05/14/2014 11:24      Hounslow  United Kingdom\n",
       "4  51.474146 -0.451562  05/14/2014 11:38      Hounslow  United Kingdom"
      ]
     },
     "execution_count": 2,
     "metadata": {},
     "output_type": "execute_result"
    }
   ],
   "source": [
    "# load the data set\n",
    "df = pd.read_csv('data/summer-travel-gps-full.csv')\n",
    "df.head()"
   ]
  },
  {
   "cell_type": "code",
   "execution_count": 3,
   "metadata": {
    "collapsed": false
   },
   "outputs": [
    {
     "data": {
      "text/plain": [
       "1759"
      ]
     },
     "execution_count": 3,
     "metadata": {},
     "output_type": "execute_result"
    }
   ],
   "source": [
    "# how many rows are in this data set?\n",
    "len(df)"
   ]
  },
  {
   "cell_type": "code",
   "execution_count": 4,
   "metadata": {
    "collapsed": false
   },
   "outputs": [
    {
     "data": {
      "text/plain": [
       "<matplotlib.axes._subplots.AxesSubplot at 0x1d0e49f29b0>"
      ]
     },
     "execution_count": 4,
     "metadata": {},
     "output_type": "execute_result"
    },
    {
     "data": {
      "image/png": "[encoded data removed]",
      "text/plain": [
       "<matplotlib.figure.Figure at 0x1d0e49f22e8>"
      ]
     },
     "metadata": {},
     "output_type": "display_data"
    }
   ],
   "source": [
    "# scatterplot it to get a sense of what it looks like\n",
    "df.plot(kind='scatter', x='lon', y='lat', figsize=[10,7])"
   ]
  },
  {
   "cell_type": "code",
   "execution_count": 5,
   "metadata": {
    "collapsed": false
   },
   "outputs": [
    {
     "data": {
      "text/plain": [
       "array([[ 29.0112146,  41.0142474],\n",
       "       [ 29.0107621,  41.0149629],\n",
       "       [ 29.0066639,  41.021378 ],\n",
       "       ..., \n",
       "       [ -9.3923114,  38.7893195],\n",
       "       [ -9.4084998,  38.8166107],\n",
       "       [ -9.4251031,  38.8011712]])"
      ]
     },
     "execution_count": 5,
     "metadata": {},
     "output_type": "execute_result"
    }
   ],
   "source": [
    "# convert the lat/long columns from dataframe to a numpy matrix\n",
    "df = df.sort_values(by='lon', ascending=False)\n",
    "coordinates = df.as_matrix(columns=['lon', 'lat'])\n",
    "coordinates"
   ]
  },
  {
   "cell_type": "markdown",
   "metadata": {},
   "source": [
    "Now, compute DBSCAN to cluster these data"
   ]
  },
  {
   "cell_type": "code",
   "execution_count": 6,
   "metadata": {
    "collapsed": false
   },
   "outputs": [
    {
     "name": "stdout",
     "output_type": "stream",
     "text": [
      "5\n"
     ]
    }
   ],
   "source": [
    "# eps is the physical distance from each point that forms its ε-neighborhood\n",
    "# min_samples is the minimum cluster size, otherwise the point(s) are noise\n",
    "db = DBSCAN(eps=3, min_samples=10).fit(coordinates)\n",
    "cluster_labels = db.labels_\n",
    "unique_labels = set(cluster_labels)\n",
    "\n",
    "# calculate the number of clusters in labels, ignoring noise (which is labeled -1) if present\n",
    "num_clusters = len(set(cluster_labels)) - (1 if -1 in cluster_labels else 0)\n",
    "\n",
    "print(num_clusters)\n",
    "#str(list(cluster_labels))"
   ]
  },
  {
   "cell_type": "code",
   "execution_count": 7,
   "metadata": {
    "collapsed": false
   },
   "outputs": [
    {
     "data": {
      "image/png": "[encoded data removed]",
      "text/plain": [
       "<matplotlib.figure.Figure at 0x1d0e5263748>"
      ]
     },
     "metadata": {},
     "output_type": "display_data"
    }
   ],
   "source": [
    "# get colors and plot all the points, color-coded by cluster (or gray if not in any cluster, aka noise)\n",
    "fig, ax = plt.subplots(figsize=[10,7])\n",
    "colors = plt.cm.rainbow(np.linspace(0, 1, len(unique_labels)))\n",
    "\n",
    "# for each cluster label and color, plot the cluster's points\n",
    "for cluster_label, color in zip(unique_labels, colors):\n",
    "    \n",
    "    size = 150\n",
    "    if cluster_label == -1: #make the noise (which is labeled -1) appear as smaller gray points\n",
    "        color = 'gray'\n",
    "        size = 30\n",
    "    \n",
    "    # plot the points that match the current cluster label\n",
    "    x_coords = coordinates[cluster_labels==cluster_label][:,0]\n",
    "    y_coords = coordinates[cluster_labels==cluster_label][:,1]\n",
    "    ax.scatter(x=x_coords, y=y_coords, c=color, edgecolor='k', s=size, alpha=0.5)\n",
    "\n",
    "ax.set_title('Number of clusters: {}'.format(num_clusters))\n",
    "plt.show()"
   ]
  },
  {
   "cell_type": "markdown",
   "metadata": {},
   "source": [
    "matplotlib offers lots of built-in colormaps: http://matplotlib.org/examples/color/colormaps_reference.html\n",
    "\n",
    "The silhouette coefficient evaluates how close a point is to the other points in its cluster in comparison with how close it is to the points in the next nearest cluster. A high silhouette coefficient indicates the points are well-clustered and a low value indicates an outlier.\n",
    "\n",
    "http://scikit-learn.org/stable/modules/clustering.html#silhouette-coefficient"
   ]
  },
  {
   "cell_type": "code",
   "execution_count": 8,
   "metadata": {
    "collapsed": false
   },
   "outputs": [
    {
     "name": "stdout",
     "output_type": "stream",
     "text": [
      "Silhouette Coefficient: 0.768\n"
     ]
    }
   ],
   "source": [
    "coefficient = metrics.silhouette_score(coordinates, cluster_labels)\n",
    "print('Silhouette Coefficient: {:0.3f}'.format(coefficient))"
   ]
  },
  {
   "cell_type": "markdown",
   "metadata": {
    "collapsed": true
   },
   "source": [
    "Now you try: experiment with different epsilon values, minimum sizes, and colormaps."
   ]
  },
  {
   "cell_type": "code",
   "execution_count": null,
   "metadata": {
    "collapsed": true
   },
   "outputs": [],
   "source": []
  },
  {
   "cell_type": "markdown",
   "metadata": {},
   "source": [
    "## Part 2: clustering to reduce data set size\n",
    "\n",
    "Rather than clustering to discover groups, I want to cluster to reduce the size of my data set. Even zoomed in very close, several locations have hundreds of data points stacked directly on top of each other due to the duration of time spent at one location. Unless we are interested in time dynamics, we simply do not need all of these spatially redundant points – they just bloat the data set’s size."
   ]
  },
  {
   "cell_type": "code",
   "execution_count": 9,
   "metadata": {
    "collapsed": false
   },
   "outputs": [],
   "source": [
    "# set eps low so clusters are only formed by very close points\n",
    "# set min_samples to 1 so we get no noise - every point will be in a cluster even if it's a cluster of 1\n",
    "db = DBSCAN(eps=.01, min_samples=1).fit(coordinates)\n",
    "cluster_labels = db.labels_\n",
    "#str(list(cluster_labels))"
   ]
  },
  {
   "cell_type": "code",
   "execution_count": 10,
   "metadata": {
    "collapsed": false
   },
   "outputs": [
    {
     "name": "stdout",
     "output_type": "stream",
     "text": [
      "Number of clusters: 158\n"
     ]
    }
   ],
   "source": [
    "# number of clusters, ignoring noise if present\n",
    "num_clusters = len(set(cluster_labels)) #- (1 if -1 in labels else 0)\n",
    "print('Number of clusters: {}'.format(num_clusters))"
   ]
  },
  {
   "cell_type": "code",
   "execution_count": 11,
   "metadata": {
    "collapsed": false
   },
   "outputs": [
    {
     "data": {
      "text/plain": [
       "153                           [[-9.3619194, 38.8054581]]\n",
       "154                           [[-9.3717872, 38.8014593]]\n",
       "155    [[-9.3852125, 38.799727], [-9.3854593, 38.7995...\n",
       "156                           [[-9.4084998, 38.8166107]]\n",
       "157                           [[-9.4251031, 38.8011712]]\n",
       "dtype: object"
      ]
     },
     "execution_count": 11,
     "metadata": {},
     "output_type": "execute_result"
    }
   ],
   "source": [
    "# create a series to contain the clusters - each element in the series is the points that compose each cluster\n",
    "clusters = pd.Series([coordinates[cluster_labels == n] for n in range(num_clusters)])\n",
    "clusters.tail()"
   ]
  },
  {
   "cell_type": "markdown",
   "metadata": {},
   "source": [
    "Calculate the approximate centroid of a cluster of points using shapely's centroid, x, and y attributes. Our distances are small so this Cartesian method is good enough... but might want to project the point data in the future for better accuracy."
   ]
  },
  {
   "cell_type": "code",
   "execution_count": 12,
   "metadata": {
    "collapsed": false
   },
   "outputs": [],
   "source": [
    "# given a cluster of points, return the point nearest to the cluster's centroid\n",
    "def get_centermost_point(cluster):\n",
    "    centroid = MultiPoint(cluster).centroid.x, MultiPoint(cluster).centroid.y\n",
    "    centermost_point = min(cluster, key=lambda point: great_circle(point, centroid).m)\n",
    "    return centermost_point"
   ]
  },
  {
   "cell_type": "markdown",
   "metadata": {},
   "source": [
    "Geopy's great circle distance calculates the shortest distance between two points along the surface of a sphere. https://en.wikipedia.org/wiki/Great-circle_distance"
   ]
  },
  {
   "cell_type": "code",
   "execution_count": 13,
   "metadata": {
    "collapsed": false
   },
   "outputs": [
    {
     "data": {
      "text/html": [
       "<div>\n",
       "<table border=\"1\" class=\"dataframe\">\n",
       "  <thead>\n",
       "    <tr style=\"text-align: right;\">\n",
       "      <th></th>\n",
       "      <th>lat</th>\n",
       "      <th>lon</th>\n",
       "    </tr>\n",
       "  </thead>\n",
       "  <tbody>\n",
       "    <tr>\n",
       "      <th>153</th>\n",
       "      <td>38.805458</td>\n",
       "      <td>-9.361919</td>\n",
       "    </tr>\n",
       "    <tr>\n",
       "      <th>154</th>\n",
       "      <td>38.801459</td>\n",
       "      <td>-9.371787</td>\n",
       "    </tr>\n",
       "    <tr>\n",
       "      <th>155</th>\n",
       "      <td>38.797314</td>\n",
       "      <td>-9.387921</td>\n",
       "    </tr>\n",
       "    <tr>\n",
       "      <th>156</th>\n",
       "      <td>38.816611</td>\n",
       "      <td>-9.408500</td>\n",
       "    </tr>\n",
       "    <tr>\n",
       "      <th>157</th>\n",
       "      <td>38.801171</td>\n",
       "      <td>-9.425103</td>\n",
       "    </tr>\n",
       "  </tbody>\n",
       "</table>\n",
       "</div>"
      ],
      "text/plain": [
       "           lat       lon\n",
       "153  38.805458 -9.361919\n",
       "154  38.801459 -9.371787\n",
       "155  38.797314 -9.387921\n",
       "156  38.816611 -9.408500\n",
       "157  38.801171 -9.425103"
      ]
     },
     "execution_count": 13,
     "metadata": {},
     "output_type": "execute_result"
    }
   ],
   "source": [
    "# find the point in each cluster that is closest to its centroid\n",
    "centermost_points = clusters.map(get_centermost_point)\n",
    "\n",
    "# use list comprehension to extract the lat and lon out of the resulting points tuples as new dataframe columns\n",
    "longitudes = [point[0] for point in centermost_points]\n",
    "latitudes = [point[1] for point in centermost_points]\n",
    "representative_points = pd.DataFrame({'lon':longitudes, 'lat':latitudes})\n",
    "representative_points.tail()"
   ]
  },
  {
   "cell_type": "markdown",
   "metadata": {},
   "source": [
    "My data set of 1,759 points has been reduced down to a spatially representative sample of 158 points. Last thing - grab the rows in the original dataframe that correspond to these 158 points (so that I keep city, country, and timestamp)."
   ]
  },
  {
   "cell_type": "code",
   "execution_count": 14,
   "metadata": {
    "collapsed": false
   },
   "outputs": [
    {
     "data": {
      "text/html": [
       "<div>\n",
       "<table border=\"1\" class=\"dataframe\">\n",
       "  <thead>\n",
       "    <tr style=\"text-align: right;\">\n",
       "      <th></th>\n",
       "      <th>lat</th>\n",
       "      <th>lon</th>\n",
       "      <th>date</th>\n",
       "      <th>city</th>\n",
       "      <th>country</th>\n",
       "    </tr>\n",
       "  </thead>\n",
       "  <tbody>\n",
       "    <tr>\n",
       "      <th>153</th>\n",
       "      <td>38.805458</td>\n",
       "      <td>-9.361919</td>\n",
       "      <td>05/16/2014 15:58</td>\n",
       "      <td>Lisbon</td>\n",
       "      <td>Portugal</td>\n",
       "    </tr>\n",
       "    <tr>\n",
       "      <th>154</th>\n",
       "      <td>38.801459</td>\n",
       "      <td>-9.371787</td>\n",
       "      <td>05/16/2014 15:43</td>\n",
       "      <td>Sintra</td>\n",
       "      <td>Portugal</td>\n",
       "    </tr>\n",
       "    <tr>\n",
       "      <th>155</th>\n",
       "      <td>38.797314</td>\n",
       "      <td>-9.387921</td>\n",
       "      <td>05/16/2014 16:58</td>\n",
       "      <td>Sintra</td>\n",
       "      <td>Portugal</td>\n",
       "    </tr>\n",
       "    <tr>\n",
       "      <th>156</th>\n",
       "      <td>38.816611</td>\n",
       "      <td>-9.408500</td>\n",
       "      <td>05/16/2014 16:13</td>\n",
       "      <td>Sintra</td>\n",
       "      <td>Portugal</td>\n",
       "    </tr>\n",
       "    <tr>\n",
       "      <th>157</th>\n",
       "      <td>38.801171</td>\n",
       "      <td>-9.425103</td>\n",
       "      <td>05/16/2014 13:43</td>\n",
       "      <td>Sintra</td>\n",
       "      <td>Portugal</td>\n",
       "    </tr>\n",
       "  </tbody>\n",
       "</table>\n",
       "</div>"
      ],
      "text/plain": [
       "           lat       lon              date    city   country\n",
       "153  38.805458 -9.361919  05/16/2014 15:58  Lisbon  Portugal\n",
       "154  38.801459 -9.371787  05/16/2014 15:43  Sintra  Portugal\n",
       "155  38.797314 -9.387921  05/16/2014 16:58  Sintra  Portugal\n",
       "156  38.816611 -9.408500  05/16/2014 16:13  Sintra  Portugal\n",
       "157  38.801171 -9.425103  05/16/2014 13:43  Sintra  Portugal"
      ]
     },
     "execution_count": 14,
     "metadata": {},
     "output_type": "execute_result"
    }
   ],
   "source": [
    "# pull row from full data set (df) where lat/lon match the lat/lon of each row of representative points\n",
    "# use iloc[0] to pull just the first row if there are multiple matches\n",
    "rs = representative_points.apply(lambda row: df[(df['lat']==row['lat']) & (df['lon']==row['lon'])].iloc[0], axis=1)\n",
    "rs.to_csv('data/reduced-set.csv', index=False)\n",
    "rs.tail()"
   ]
  },
  {
   "cell_type": "code",
   "execution_count": 15,
   "metadata": {
    "collapsed": false
   },
   "outputs": [
    {
     "name": "stdout",
     "output_type": "stream",
     "text": [
      "646\n",
      "7\n"
     ]
    }
   ],
   "source": [
    "# to demonstrate the data reduction, compare how many observations of 'Spain' in each data set\n",
    "print(len(df[df['country']=='Spain']))\n",
    "print(len(rs[rs['country']=='Spain']))"
   ]
  },
  {
   "cell_type": "code",
   "execution_count": 16,
   "metadata": {
    "collapsed": false
   },
   "outputs": [
    {
     "data": {
      "image/png": "[encoded data removed]",
      "text/plain": [
       "<matplotlib.figure.Figure at 0x1d0e5299198>"
      ]
     },
     "metadata": {},
     "output_type": "display_data"
    }
   ],
   "source": [
    "# plot the final reduced set of coordinate points vs the original full set\n",
    "fig, ax = plt.subplots(figsize=[10,7])\n",
    "rs_scatter = ax.scatter(rs['lon'], rs['lat'], c='m', alpha=0.3, s=200)\n",
    "df_scatter = ax.scatter(df['lon'], df['lat'], c='k', alpha=0.5, s=5)\n",
    "ax.set_title('Full data set vs DBSCAN reduced set')\n",
    "ax.set_xlabel('Longitude')\n",
    "ax.set_ylabel('Latitude')\n",
    "ax.legend([df_scatter, rs_scatter], ['Full set', 'Reduced set'], loc='upper left')\n",
    "plt.show()"
   ]
  },
  {
   "cell_type": "markdown",
   "metadata": {
    "collapsed": false
   },
   "source": [
    "Despite the massive reduction in data set size, our smaller set is still spatially representative of the larger set (until you get to very fine spatial scales, as determined by the DBSCAN epsilon value).\n",
    "\n",
    "If you're interested in cluster analysis and want to explore further, advanced topics include:\n",
    " - R-trees: https://en.wikipedia.org/wiki/R-tree\n",
    " - k-d trees: https://en.wikipedia.org/wiki/K-d_tree\n",
    " - OPTICS: https://en.wikipedia.org/wiki/OPTICS_algorithm\n",
    " - ELKI, a Java-based tool, lets you use DBSCAN explicitly with lat-long distances: http://elki.dbs.ifi.lmu.de/"
   ]
  }
 ],
 "metadata": {
  "kernelspec": {
   "display_name": "Python 3",
   "language": "python",
   "name": "python3"
  },
  "language_info": {
   "codemirror_mode": {
    "name": "ipython",
    "version": 3
   },
   "file_extension": ".py",
   "mimetype": "text/x-python",
   "name": "python",
   "nbconvert_exporter": "python",
   "pygments_lexer": "ipython3",
   "version": "3.5.1"
  }
 },
 "nbformat": 4,
 "nbformat_minor": 0
}
